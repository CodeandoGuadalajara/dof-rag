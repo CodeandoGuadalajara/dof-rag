{
 "cells": [
  {
   "cell_type": "code",
   "execution_count": 1,
   "metadata": {},
   "outputs": [],
   "source": [
    "# /// script\n",
    "# dependencies = [\n",
    "#   \"python-dotenv\",\n",
    "#   \"google>=0.3.0\",\n",
    "#   \"google-genai>=1.3.0\",\n",
    "#   \"pillow\"\n",
    "# ]\n",
    "# ///\n",
    "\n",
    "import os\n",
    "from dotenv import load_dotenv\n",
    "from modules.file_utils import FileUtil\n",
    "from modules.ui_components import create_processing_interface\n",
    "from modules.gemini_client import GeminiClient\n",
    "\n",
    "# Cargar variables de entorno\n",
    "load_dotenv()\n",
    "\n",
    "# Configuración por defecto para el procesamiento por lotes\n",
    "BATCH_SIZE = 10\n",
    "COOLING_PERIOD = 5\n",
    "\n",
    "# Variables globales de control del procesamiento\n",
    "INTERRUPT_SIGNAL = False  # Señal para interrumpir el procesamiento\n",
    "FORCE_OVERWRITE = False   # Controla si se sobrescriben descripciones existentes"
   ]
  },
  {
   "cell_type": "code",
   "execution_count": 2,
   "metadata": {},
   "outputs": [
    {
     "data": {
      "text/html": [
       "<h3>Procesamiento de Imágenes con Gemini</h3>"
      ],
      "text/plain": [
       "<IPython.core.display.HTML object>"
      ]
     },
     "metadata": {},
     "output_type": "display_data"
    },
    {
     "data": {
      "application/vnd.jupyter.widget-view+json": {
       "model_id": "28ba9b9520954c7e9e3864a649b97ee9",
       "version_major": 2,
       "version_minor": 0
      },
      "text/plain": [
       "Text(value='dof_markdown', description='Directorio:', layout=Layout(width='80%'), placeholder='Ingrese la ruta…"
      ]
     },
     "metadata": {},
     "output_type": "display_data"
    },
    {
     "data": {
      "application/vnd.jupyter.widget-view+json": {
       "model_id": "1f05672eac6346d9a2b1eaf4f80f0ec7",
       "version_major": 2,
       "version_minor": 0
      },
      "text/plain": [
       "HBox(children=(IntSlider(value=10, continuous_update=False, description='Tamaño de lote:', max=20, min=1), Int…"
      ]
     },
     "metadata": {},
     "output_type": "display_data"
    },
    {
     "data": {
      "application/vnd.jupyter.widget-view+json": {
       "model_id": "533c851ff20f47c7b21d4463bafba148",
       "version_major": 2,
       "version_minor": 0
      },
      "text/plain": [
       "HBox(children=(Button(button_style='success', description='Procesar Imágenes', style=ButtonStyle(), tooltip='P…"
      ]
     },
     "metadata": {},
     "output_type": "display_data"
    },
    {
     "data": {
      "application/vnd.jupyter.widget-view+json": {
       "model_id": "a21225bced7748429821b363b0640514",
       "version_major": 2,
       "version_minor": 0
      },
      "text/plain": [
       "HBox(children=(Button(button_style='warning', description='Reintentar Fallidos', style=ButtonStyle(), tooltip=…"
      ]
     },
     "metadata": {},
     "output_type": "display_data"
    },
    {
     "data": {
      "application/vnd.jupyter.widget-view+json": {
       "model_id": "6d86f38aa02c4f8c82abc3999ff3c292",
       "version_major": 2,
       "version_minor": 0
      },
      "text/plain": [
       "Output()"
      ]
     },
     "metadata": {},
     "output_type": "display_data"
    }
   ],
   "source": [
    "# Configurar el cliente Gemini (la API key se obtiene desde el entorno o se pasa manualmente)\n",
    "\n",
    "  \n",
    "\n",
    "question = \"\"\"Describe detalladamente la imagen en español, priorizando la información clave:  \n",
    "            - **Texto:** Si contiene texto (como en diagramas, infografías o documentos oficiales), transcribe el contenido principal.  \n",
    "            - **Mapas:** Menciona lugares, nombres geográficos y símbolos relevantes.  \n",
    "            - **Esquemas o diagramas:** Explica las relaciones o procesos principales.  \n",
    "            - **Logos:** Describe el diseño, colores y, si es reconocible, a qué entidad pertenece.  \n",
    "            - **Datos visuales:** Si hay gráficos o estadísticas, resume los valores más importantes.  \n",
    "            Sé claro y preciso, priorizando la información más relevante.\"\"\"\n",
    "gemini_client = GeminiClient(max_tokens=512)\n",
    "gemini_client.set_api_key(os.getenv(\"GEMINI_API_KEY\"))\n",
    "gemini_client.set_question(question)\n",
    "\n",
    "# Crear una instancia de FileUtil con valores por defecto (se puede modificar desde la interfaz)\n",
    "default_root = r\"dof_markdown\"\n",
    "file_util = FileUtil(root_directory=default_root, client=gemini_client)\n",
    "\n",
    "# Crear y mostrar la interfaz\n",
    "controls = create_processing_interface(gemini_client, file_util)"
   ]
  }
 ],
 "metadata": {
  "kernelspec": {
   "display_name": ".venv",
   "language": "python",
   "name": "python3"
  },
  "language_info": {
   "codemirror_mode": {
    "name": "ipython",
    "version": 3
   },
   "file_extension": ".py",
   "mimetype": "text/x-python",
   "name": "python",
   "nbconvert_exporter": "python",
   "pygments_lexer": "ipython3",
   "version": "3.12.8"
  }
 },
 "nbformat": 4,
 "nbformat_minor": 2
}
