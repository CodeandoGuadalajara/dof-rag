{
 "cells": [
  {
   "cell_type": "code",
   "execution_count": null,
   "metadata": {},
   "outputs": [],
   "source": [
    "import json\n",
    "import os\n",
    "from datetime import datetime\n",
    "import requests\n",
    "import sys\n",
    "from pathlib import Path\n",
    "from extract_markdown import extract_markdown_from_pdf, extract_from_to, count_pages\n",
    "from create_embedings import extract_pdfs_to_markdown,generate_faiss_embeddings"
   ]
  },
  {
   "cell_type": "code",
   "execution_count": 17,
   "metadata": {},
   "outputs": [
    {
     "name": "stdout",
     "output_type": "stream",
     "text": [
      "Número de páginas en el PDF: 166\n"
     ]
    }
   ],
   "source": [
    "\n",
    "pdf_path = r\"dof\\2025\\01\\02012025-MAT.pdf\"  \n",
    "\n",
    "num_pages = count_pages(pdf_path)\n",
    "print(f\"Número de páginas en el PDF: {num_pages}\")\n",
    "\n"
   ]
  },
  {
   "cell_type": "code",
   "execution_count": 18,
   "metadata": {},
   "outputs": [
    {
     "name": "stdout",
     "output_type": "stream",
     "text": [
      "```html\n",
      "<chunk pages=\"1\">\n",
      "UNIDOS MEXICA\n",
      "ESTADOS\n",
      "DIARIO OFICIAL\n",
      "DE LA FEDERACION\n",
      "ORGANO DEL GOBIERNO CONSTITUCIONAL DE LOS ESTADOS UNIDOS MEXICANOS\n",
      "No. de publicación: 001/2025\n",
      "Ciudad de México, jueves 2 de enero de 2025\n",
      "CONTENIDO\n",
      "Secretaría de Infraestructura, Comunicaciones y Transportes\n",
      "Secretaría de Desarrollo Agrario, Territorial y Urbano\n",
      "Servicios de Salud del Instituto Mexicano del Seguro Social\n",
      "para el Bienestar (IMSS-BIENESTAR)\n",
      "Banco de México\n",
      "Instituto Nacional Electoral\n",
      "Tribunal Superior Agrario\n",
      "Convocatorias para Concursos de Adquisiciones,\n",
      "Arrendamientos, Obras y Servicios del Sector Público\n",
      "Avisos\n",
      "Indice en página 2\n",
      "</chunk>\n",
      "```\n"
     ]
    }
   ],
   "source": [
    "markdown_text = extract_markdown_from_pdf(pdf_path)\n",
    "print(markdown_text[:1000])  \n"
   ]
  },
  {
   "cell_type": "code",
   "execution_count": 19,
   "metadata": {},
   "outputs": [
    {
     "name": "stdout",
     "output_type": "stream",
     "text": [
      "Markdown guardado en: extract/documento.md\n"
     ]
    }
   ],
   "source": [
    "md_path = \"extract/documento.md\"  \n",
    "extract_from_to(pdf_path, md_path)\n",
    "print(f\"Markdown guardado en: {md_path}\")\n"
   ]
  },
  {
   "cell_type": "code",
   "execution_count": null,
   "metadata": {},
   "outputs": [
    {
     "name": "stdout",
     "output_type": "stream",
     "text": [
      "Procesado: dof/2025\\01\\02012025-MAT.pdf → extracted/2025\\01\\02012025-MAT.md\n",
      "Procesado: dof/2025\\01\\03012025-MAT.pdf → extracted/2025\\01\\03012025-MAT.md\n",
      "Procesado: dof/2025\\01\\06012025-MAT.pdf → extracted/2025\\01\\06012025-MAT.md\n",
      "Procesado: dof/2025\\01\\07012025-MAT.pdf → extracted/2025\\01\\07012025-MAT.md\n",
      "Procesado: dof/2025\\01\\08012025-MAT.pdf → extracted/2025\\01\\08012025-MAT.md\n",
      "Procesado: dof/2025\\01\\09012025-MAT.pdf → extracted/2025\\01\\09012025-MAT.md\n",
      "Procesado: dof/2025\\01\\10012025-MAT.pdf → extracted/2025\\01\\10012025-MAT.md\n"
     ]
    },
    {
     "ename": "TypeError",
     "evalue": "write() argument must be str, not None",
     "output_type": "error",
     "traceback": [
      "\u001b[1;31m---------------------------------------------------------------------------\u001b[0m",
      "\u001b[1;31mTypeError\u001b[0m                                 Traceback (most recent call last)",
      "Cell \u001b[1;32mIn[21], line 4\u001b[0m\n\u001b[0;32m      2\u001b[0m source_directory \u001b[38;5;241m=\u001b[39m \u001b[38;5;124m\"\u001b[39m\u001b[38;5;124mdof/2025\u001b[39m\u001b[38;5;124m\"\u001b[39m\n\u001b[0;32m      3\u001b[0m target_directory \u001b[38;5;241m=\u001b[39m \u001b[38;5;124m\"\u001b[39m\u001b[38;5;124mextracted/2025\u001b[39m\u001b[38;5;124m\"\u001b[39m\n\u001b[1;32m----> 4\u001b[0m \u001b[43mextract_pdfs_to_markdown\u001b[49m\u001b[43m(\u001b[49m\u001b[43msource_directory\u001b[49m\u001b[43m,\u001b[49m\u001b[43m \u001b[49m\u001b[43mtarget_directory\u001b[49m\u001b[43m)\u001b[49m\n",
      "Cell \u001b[1;32mIn[20], line 38\u001b[0m, in \u001b[0;36mextract_pdfs_to_markdown\u001b[1;34m(source_dir, target_dir)\u001b[0m\n\u001b[0;32m     36\u001b[0m \u001b[38;5;66;03m# Guardar el Markdown\u001b[39;00m\n\u001b[0;32m     37\u001b[0m \u001b[38;5;28;01mwith\u001b[39;00m \u001b[38;5;28mopen\u001b[39m(md_path, \u001b[38;5;124m\"\u001b[39m\u001b[38;5;124mw\u001b[39m\u001b[38;5;124m\"\u001b[39m, encoding\u001b[38;5;241m=\u001b[39m\u001b[38;5;124m\"\u001b[39m\u001b[38;5;124mutf-8\u001b[39m\u001b[38;5;124m\"\u001b[39m) \u001b[38;5;28;01mas\u001b[39;00m md_file:\n\u001b[1;32m---> 38\u001b[0m     md_file\u001b[38;5;241m.\u001b[39mwrite(markdown_text)\n\u001b[0;32m     40\u001b[0m \u001b[38;5;28mprint\u001b[39m(\u001b[38;5;124mf\u001b[39m\u001b[38;5;124m\"\u001b[39m\u001b[38;5;124mProcesado: \u001b[39m\u001b[38;5;132;01m{\u001b[39;00mpdf_path\u001b[38;5;132;01m}\u001b[39;00m\u001b[38;5;124m → \u001b[39m\u001b[38;5;132;01m{\u001b[39;00mmd_path\u001b[38;5;132;01m}\u001b[39;00m\u001b[38;5;124m\"\u001b[39m)\n",
      "\u001b[1;31mTypeError\u001b[0m: write() argument must be str, not None"
     ]
    }
   ],
   "source": [
    "\n",
    "source_directory = \"dof/2025\"\n",
    "target_directory = \"extracted/2025\"\n",
    "extract_pdfs_to_markdown(source_directory, target_directory)"
   ]
  },
  {
   "cell_type": "code",
   "execution_count": null,
   "metadata": {},
   "outputs": [
    {
     "data": {
      "application/vnd.jupyter.widget-view+json": {
       "model_id": "d141706f1358458b9f98aa57a69e704f",
       "version_major": 2,
       "version_minor": 0
      },
      "text/plain": [
       "modules.json:   0%|          | 0.00/461 [00:00<?, ?B/s]"
      ]
     },
     "metadata": {},
     "output_type": "display_data"
    },
    {
     "name": "stderr",
     "output_type": "stream",
     "text": [
      "c:\\Users\\erojas\\AppData\\Local\\Programs\\Python\\Python311\\Lib\\site-packages\\huggingface_hub\\file_download.py:142: UserWarning: `huggingface_hub` cache-system uses symlinks by default to efficiently store duplicated files but your machine does not support them in C:\\Users\\erojas\\.cache\\huggingface\\hub\\models--hkunlp--instructor-xl. Caching files will still work but in a degraded version that might require more space on your disk. This warning can be disabled by setting the `HF_HUB_DISABLE_SYMLINKS_WARNING` environment variable. For more details, see https://huggingface.co/docs/huggingface_hub/how-to-cache#limitations.\n",
      "To support symlinks on Windows, you either need to activate Developer Mode or to run Python as an administrator. In order to activate developer mode, see this article: https://docs.microsoft.com/en-us/windows/apps/get-started/enable-your-device-for-development\n",
      "  warnings.warn(message)\n"
     ]
    },
    {
     "data": {
      "application/vnd.jupyter.widget-view+json": {
       "model_id": "747c3c33500840a5a4a6d63b3fe405fc",
       "version_major": 2,
       "version_minor": 0
      },
      "text/plain": [
       "config_sentence_transformers.json:   0%|          | 0.00/122 [00:00<?, ?B/s]"
      ]
     },
     "metadata": {},
     "output_type": "display_data"
    },
    {
     "data": {
      "application/vnd.jupyter.widget-view+json": {
       "model_id": "906e10aed6c748b395626245345082e5",
       "version_major": 2,
       "version_minor": 0
      },
      "text/plain": [
       "README.md:   0%|          | 0.00/66.3k [00:00<?, ?B/s]"
      ]
     },
     "metadata": {},
     "output_type": "display_data"
    },
    {
     "data": {
      "application/vnd.jupyter.widget-view+json": {
       "model_id": "52376ae205d9470cbb5fe2a3582e15d4",
       "version_major": 2,
       "version_minor": 0
      },
      "text/plain": [
       "sentence_bert_config.json:   0%|          | 0.00/53.0 [00:00<?, ?B/s]"
      ]
     },
     "metadata": {},
     "output_type": "display_data"
    },
    {
     "data": {
      "application/vnd.jupyter.widget-view+json": {
       "model_id": "71f531be09ff4ceaa43cea1e961ca3db",
       "version_major": 2,
       "version_minor": 0
      },
      "text/plain": [
       "config.json:   0%|          | 0.00/1.52k [00:00<?, ?B/s]"
      ]
     },
     "metadata": {},
     "output_type": "display_data"
    },
    {
     "data": {
      "application/vnd.jupyter.widget-view+json": {
       "model_id": "ad74cd7b8f7b446ebe5b2a5f3d8fb912",
       "version_major": 2,
       "version_minor": 0
      },
      "text/plain": [
       "pytorch_model.bin:   0%|          | 0.00/4.96G [00:00<?, ?B/s]"
      ]
     },
     "metadata": {},
     "output_type": "display_data"
    },
    {
     "data": {
      "application/vnd.jupyter.widget-view+json": {
       "model_id": "69043aa3714b45dd8cf30528f328e619",
       "version_major": 2,
       "version_minor": 0
      },
      "text/plain": [
       "tokenizer_config.json:   0%|          | 0.00/2.40k [00:00<?, ?B/s]"
      ]
     },
     "metadata": {},
     "output_type": "display_data"
    },
    {
     "data": {
      "application/vnd.jupyter.widget-view+json": {
       "model_id": "a61b712147ec4834a1af00d8ff1308c0",
       "version_major": 2,
       "version_minor": 0
      },
      "text/plain": [
       "spiece.model:   0%|          | 0.00/792k [00:00<?, ?B/s]"
      ]
     },
     "metadata": {},
     "output_type": "display_data"
    },
    {
     "data": {
      "application/vnd.jupyter.widget-view+json": {
       "model_id": "a036a41e588d4585ae99f39775cf12bc",
       "version_major": 2,
       "version_minor": 0
      },
      "text/plain": [
       "tokenizer.json:   0%|          | 0.00/2.42M [00:00<?, ?B/s]"
      ]
     },
     "metadata": {},
     "output_type": "display_data"
    },
    {
     "data": {
      "application/vnd.jupyter.widget-view+json": {
       "model_id": "44bfbdbac9b04cf3b278d1ca4a40e9da",
       "version_major": 2,
       "version_minor": 0
      },
      "text/plain": [
       "special_tokens_map.json:   0%|          | 0.00/2.20k [00:00<?, ?B/s]"
      ]
     },
     "metadata": {},
     "output_type": "display_data"
    },
    {
     "data": {
      "application/vnd.jupyter.widget-view+json": {
       "model_id": "1a48305a2f6e4ab99f21d001296e10a7",
       "version_major": 2,
       "version_minor": 0
      },
      "text/plain": [
       "1_Pooling%2Fconfig.json:   0%|          | 0.00/270 [00:00<?, ?B/s]"
      ]
     },
     "metadata": {},
     "output_type": "display_data"
    },
    {
     "data": {
      "application/vnd.jupyter.widget-view+json": {
       "model_id": "c61c099fa8fa44f8a180a76f799f908d",
       "version_major": 2,
       "version_minor": 0
      },
      "text/plain": [
       "2_Dense%2Fconfig.json:   0%|          | 0.00/116 [00:00<?, ?B/s]"
      ]
     },
     "metadata": {},
     "output_type": "display_data"
    },
    {
     "data": {
      "application/vnd.jupyter.widget-view+json": {
       "model_id": "d7f79be7cb8d481487e1b6e55053af6e",
       "version_major": 2,
       "version_minor": 0
      },
      "text/plain": [
       "pytorch_model.bin:   0%|          | 0.00/3.15M [00:00<?, ?B/s]"
      ]
     },
     "metadata": {},
     "output_type": "display_data"
    },
    {
     "data": {
      "application/vnd.jupyter.widget-view+json": {
       "model_id": "d8192f16353642299f401eec02c9f814",
       "version_major": 2,
       "version_minor": 0
      },
      "text/plain": [
       "model.safetensors:   0%|          | 0.00/4.96G [00:00<?, ?B/s]"
      ]
     },
     "metadata": {},
     "output_type": "display_data"
    },
    {
     "name": "stdout",
     "output_type": "stream",
     "text": [
      "Procesado: extracted/2025\\01\\02012025-MAT.md → Embedding generado\n",
      "Procesado: extracted/2025\\01\\03012025-MAT.md → Embedding generado\n",
      "Procesado: extracted/2025\\01\\06012025-MAT.md → Embedding generado\n",
      "Procesado: extracted/2025\\01\\07012025-MAT.md → Embedding generado\n",
      "Procesado: extracted/2025\\01\\08012025-MAT.md → Embedding generado\n",
      "Procesado: extracted/2025\\01\\09012025-MAT.md → Embedding generado\n",
      "Procesado: extracted/2025\\01\\10012025-MAT.md → Embedding generado\n",
      "Procesado: extracted/2025\\01\\13012025-MAT.md → Embedding generado\n",
      "Índice FAISS guardado en: faiss_index.idx\n"
     ]
    }
   ],
   "source": [
    "\n",
    "md_directory = \"extracted/2025\"   # Ruta donde se guardaron los archivos .md\n",
    "faiss_index_file = \"faiss_index.idx\"  # Archivo donde se guardará el índice FAISS\n",
    "\n",
    "index, metadata = generate_faiss_embeddings(md_directory, faiss_index_file)"
   ]
  },
  {
   "cell_type": "code",
   "execution_count": null,
   "metadata": {},
   "outputs": [
    {
     "data": {
      "text/plain": [
       "<faiss.swigfaiss_avx2.IndexFlatL2; proxy of <Swig Object of type 'faiss::IndexFlatL2 *' at 0x000001EFBFAEBC30> >"
      ]
     },
     "execution_count": 25,
     "metadata": {},
     "output_type": "execute_result"
    }
   ],
   "source": []
  },
  {
   "cell_type": "code",
   "execution_count": null,
   "metadata": {},
   "outputs": [],
   "source": []
  }
 ],
 "metadata": {
  "kernelspec": {
   "display_name": "Python 3",
   "language": "python",
   "name": "python3"
  },
  "language_info": {
   "codemirror_mode": {
    "name": "ipython",
    "version": 3
   },
   "file_extension": ".py",
   "mimetype": "text/x-python",
   "name": "python",
   "nbconvert_exporter": "python",
   "pygments_lexer": "ipython3",
   "version": "3.11.1"
  }
 },
 "nbformat": 4,
 "nbformat_minor": 2
}
