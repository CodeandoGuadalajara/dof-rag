{
 "cells": [
  {
   "cell_type": "code",
   "execution_count": 35,
   "metadata": {},
   "outputs": [],
   "source": [
    "import json\n",
    "import os\n",
    "from datetime import datetime\n",
    "import requests\n",
    "import sys\n",
    "from pathlib import Path\n",
    "from extract_markdown import extract_markdown_from_pdf, extract_from_to, count_pages\n",
    "from create_embeddings import extract_pdfs_to_markdown,generate_faiss_embeddings,generate_rag_response,search_faiss"
   ]
  },
  {
   "cell_type": "markdown",
   "metadata": {},
   "source": [
    "Sample Testing"
   ]
  },
  {
   "cell_type": "code",
   "execution_count": 9,
   "metadata": {},
   "outputs": [
    {
     "name": "stdout",
     "output_type": "stream",
     "text": [
      "Número de páginas en el PDF: 166\n"
     ]
    }
   ],
   "source": [
    "\n",
    "pdf_path = r\"dof\\2025\\01\\02012025-MAT.pdf\"  \n",
    "\n",
    "num_pages = count_pages(pdf_path)\n",
    "print(f\"Número de páginas en el PDF: {num_pages}\")\n",
    "\n"
   ]
  },
  {
   "cell_type": "code",
   "execution_count": 10,
   "metadata": {},
   "outputs": [
    {
     "name": "stdout",
     "output_type": "stream",
     "text": [
      "```html\n",
      "<chunk pages=\"1\">\n",
      "UNIDOS MEXICA\n",
      "ESTADOS\n",
      "DIARIO OFICIAL\n",
      "DE LA FEDERACION\n",
      "ORGANO DEL GOBIERNO CONSTITUCIONAL DE LOS ESTADOS UNIDOS MEXICANOS\n",
      "No. de publicación: 001/2025\n",
      "Ciudad de México, jueves 2 de enero de 2025\n",
      "CONTENIDO\n",
      "Secretaría de Infraestructura, Comunicaciones y Transportes\n",
      "Secretaría de Desarrollo Agrario, Territorial y Urbano\n",
      "Servicios de Salud del Instituto Mexicano del Seguro Social\n",
      "para el Bienestar (IMSS-BIENESTAR)\n",
      "Banco de México\n",
      "Instituto Nacional Electoral\n",
      "Tribunal Superior Agrario\n",
      "Convocatorias para Concursos de Adquisiciones,\n",
      "Arrendamientos, Obras y Servicios del Sector Público\n",
      "Avisos\n",
      "Indice en página 2\n",
      "</chunk>\n",
      "```\n"
     ]
    }
   ],
   "source": [
    "markdown_text = extract_markdown_from_pdf(pdf_path)\n",
    "print(markdown_text[:1000])  \n"
   ]
  },
  {
   "cell_type": "code",
   "execution_count": 11,
   "metadata": {},
   "outputs": [
    {
     "name": "stdout",
     "output_type": "stream",
     "text": [
      "Markdown guardado en: extract/documento.md\n"
     ]
    }
   ],
   "source": [
    "md_path = \"extract/documento.md\"  \n",
    "extract_from_to(pdf_path, md_path)\n",
    "print(f\"Markdown guardado en: {md_path}\")\n"
   ]
  },
  {
   "cell_type": "markdown",
   "metadata": {},
   "source": [
    "Embeddings"
   ]
  },
  {
   "cell_type": "code",
   "execution_count": 12,
   "metadata": {},
   "outputs": [
    {
     "name": "stdout",
     "output_type": "stream",
     "text": [
      "✅ Procesado: dof/2025\\01\\02012025-MAT.pdf → extracted/2025\\01\\02012025-MAT.md\n",
      "✅ Procesado: dof/2025\\01\\03012025-MAT.pdf → extracted/2025\\01\\03012025-MAT.md\n",
      "✅ Procesado: dof/2025\\01\\06012025-MAT.pdf → extracted/2025\\01\\06012025-MAT.md\n",
      "✅ Procesado: dof/2025\\01\\07012025-MAT.pdf → extracted/2025\\01\\07012025-MAT.md\n",
      "✅ Procesado: dof/2025\\01\\08012025-MAT.pdf → extracted/2025\\01\\08012025-MAT.md\n",
      "✅ Procesado: dof/2025\\01\\09012025-MAT.pdf → extracted/2025\\01\\09012025-MAT.md\n",
      "✅ Procesado: dof/2025\\01\\10012025-MAT.pdf → extracted/2025\\01\\10012025-MAT.md\n",
      "✅ Procesado: dof/2025\\01\\13012025-MAT.pdf → extracted/2025\\01\\13012025-MAT.md\n",
      "✅ Procesado: dof/2025\\01\\14012025-MAT.pdf → extracted/2025\\01\\14012025-MAT.md\n",
      "✅ Procesado: dof/2025\\01\\15012025-MAT.pdf → extracted/2025\\01\\15012025-MAT.md\n",
      "✅ Procesado: dof/2025\\01\\16012025-MAT.pdf → extracted/2025\\01\\16012025-MAT.md\n",
      "✅ Procesado: dof/2025\\01\\17012025-MAT.pdf → extracted/2025\\01\\17012025-MAT.md\n",
      "✅ Procesado: dof/2025\\01\\20012025-MAT.pdf → extracted/2025\\01\\20012025-MAT.md\n",
      "✅ Procesado: dof/2025\\01\\21012025-MAT.pdf → extracted/2025\\01\\21012025-MAT.md\n"
     ]
    },
    {
     "ename": "TypeError",
     "evalue": "write() argument must be str, not None",
     "output_type": "error",
     "traceback": [
      "\u001b[1;31m---------------------------------------------------------------------------\u001b[0m",
      "\u001b[1;31mTypeError\u001b[0m                                 Traceback (most recent call last)",
      "Cell \u001b[1;32mIn[12], line 3\u001b[0m\n\u001b[0;32m      1\u001b[0m source_directory \u001b[38;5;241m=\u001b[39m \u001b[38;5;124m\"\u001b[39m\u001b[38;5;124mdof/2025\u001b[39m\u001b[38;5;124m\"\u001b[39m\n\u001b[0;32m      2\u001b[0m target_directory \u001b[38;5;241m=\u001b[39m \u001b[38;5;124m\"\u001b[39m\u001b[38;5;124mextracted/2025\u001b[39m\u001b[38;5;124m\"\u001b[39m\n\u001b[1;32m----> 3\u001b[0m \u001b[43mextract_pdfs_to_markdown\u001b[49m\u001b[43m(\u001b[49m\u001b[43msource_directory\u001b[49m\u001b[43m,\u001b[49m\u001b[43m \u001b[49m\u001b[43mtarget_directory\u001b[49m\u001b[43m)\u001b[49m\n",
      "File \u001b[1;32mc:\\Users\\erojas\\OneDrive - EMBOTELLADORA DE COLIMA, S.A. DE C.V\\Documentos\\Versiones\\rag_dof\\dof-rag\\create_embeddings.py:50\u001b[0m, in \u001b[0;36mextract_pdfs_to_markdown\u001b[1;34m(source_dir, target_dir)\u001b[0m\n\u001b[0;32m     47\u001b[0m markdown_text \u001b[38;5;241m=\u001b[39m extract_markdown_from_pdf(pdf_path)\n\u001b[0;32m     49\u001b[0m \u001b[38;5;28;01mwith\u001b[39;00m \u001b[38;5;28mopen\u001b[39m(md_path, \u001b[38;5;124m\"\u001b[39m\u001b[38;5;124mw\u001b[39m\u001b[38;5;124m\"\u001b[39m, encoding\u001b[38;5;241m=\u001b[39m\u001b[38;5;124m\"\u001b[39m\u001b[38;5;124mutf-8\u001b[39m\u001b[38;5;124m\"\u001b[39m) \u001b[38;5;28;01mas\u001b[39;00m md_file:\n\u001b[1;32m---> 50\u001b[0m     md_file\u001b[38;5;241m.\u001b[39mwrite(markdown_text)\n\u001b[0;32m     52\u001b[0m \u001b[38;5;28mprint\u001b[39m(\u001b[38;5;124mf\u001b[39m\u001b[38;5;124m\"\u001b[39m\u001b[38;5;124m✅ Procesado: \u001b[39m\u001b[38;5;132;01m{\u001b[39;00mpdf_path\u001b[38;5;132;01m}\u001b[39;00m\u001b[38;5;124m → \u001b[39m\u001b[38;5;132;01m{\u001b[39;00mmd_path\u001b[38;5;132;01m}\u001b[39;00m\u001b[38;5;124m\"\u001b[39m)\n",
      "\u001b[1;31mTypeError\u001b[0m: write() argument must be str, not None"
     ]
    }
   ],
   "source": [
    "\n",
    "source_directory = \"dof/2025\"\n",
    "target_directory = \"extracted/2025\"\n",
    "extract_pdfs_to_markdown(source_directory, target_directory)"
   ]
  },
  {
   "cell_type": "code",
   "execution_count": 15,
   "metadata": {},
   "outputs": [
    {
     "name": "stdout",
     "output_type": "stream",
     "text": [
      "✅ Procesado: extracted/2025\\01\\02012025-MAT.md → Embedding generado\n",
      "✅ Procesado: extracted/2025\\01\\03012025-MAT.md → Embedding generado\n",
      "✅ Procesado: extracted/2025\\01\\06012025-MAT.md → Embedding generado\n",
      "✅ Procesado: extracted/2025\\01\\07012025-MAT.md → Embedding generado\n",
      "✅ Procesado: extracted/2025\\01\\08012025-MAT.md → Embedding generado\n",
      "✅ Procesado: extracted/2025\\01\\09012025-MAT.md → Embedding generado\n",
      "✅ Procesado: extracted/2025\\01\\10012025-MAT.md → Embedding generado\n",
      "✅ Procesado: extracted/2025\\01\\13012025-MAT.md → Embedding generado\n",
      "✅ Procesado: extracted/2025\\01\\14012025-MAT.md → Embedding generado\n",
      "✅ Procesado: extracted/2025\\01\\15012025-MAT.md → Embedding generado\n",
      "✅ Procesado: extracted/2025\\01\\16012025-MAT.md → Embedding generado\n",
      "✅ Procesado: extracted/2025\\01\\17012025-MAT.md → Embedding generado\n",
      "✅ Procesado: extracted/2025\\01\\20012025-MAT.md → Embedding generado\n",
      "✅ Procesado: extracted/2025\\01\\21012025-MAT.md → Embedding generado\n",
      "✅ Procesado: extracted/2025\\01\\22012025-MAT.md → Embedding generado\n",
      "⚠️ Pocos datos, usando FAISS sin clustering (FlatL2)\n",
      "✅ Índice FAISS guardado en: faiss_index.idx\n",
      "✅ Metadatos guardados en: faiss_index.idx\n"
     ]
    }
   ],
   "source": [
    "\n",
    "md_directory = \"extracted/2025\"   # Ruta donde se guardaron los archivos .md\n",
    "faiss_index_file = \"faiss_index.idx\"  # Archivo donde se guardará el índice FAISS\n",
    "\n",
    "index, metadata = generate_faiss_embeddings(md_directory, faiss_index_file)"
   ]
  },
  {
   "cell_type": "code",
   "execution_count": null,
   "metadata": {},
   "outputs": [
    {
     "name": "stdout",
     "output_type": "stream",
     "text": [
      "✅ Procesado: extracted/2025\\01\\02012025-MAT.md → Embedding generado\n",
      "✅ Procesado: extracted/2025\\01\\03012025-MAT.md → Embedding generado\n",
      "✅ Procesado: extracted/2025\\01\\06012025-MAT.md → Embedding generado\n",
      "✅ Procesado: extracted/2025\\01\\07012025-MAT.md → Embedding generado\n",
      "✅ Procesado: extracted/2025\\01\\08012025-MAT.md → Embedding generado\n",
      "✅ Procesado: extracted/2025\\01\\09012025-MAT.md → Embedding generado\n",
      "✅ Procesado: extracted/2025\\01\\10012025-MAT.md → Embedding generado\n",
      "✅ Procesado: extracted/2025\\01\\13012025-MAT.md → Embedding generado\n",
      "✅ Procesado: extracted/2025\\01\\14012025-MAT.md → Embedding generado\n",
      "✅ Procesado: extracted/2025\\01\\15012025-MAT.md → Embedding generado\n",
      "✅ Procesado: extracted/2025\\01\\16012025-MAT.md → Embedding generado\n",
      "✅ Procesado: extracted/2025\\01\\17012025-MAT.md → Embedding generado\n",
      "✅ Procesado: extracted/2025\\01\\20012025-MAT.md → Embedding generado\n",
      "✅ Procesado: extracted/2025\\01\\21012025-MAT.md → Embedding generado\n",
      "✅ Procesado: extracted/2025\\01\\22012025-MAT.md → Embedding generado\n",
      "✅ Índice FAISS guardado en: faiss_index.idx\n",
      "✅ Metadatos guardados en: faiss_index.json\n"
     ]
    }
   ],
   "source": [
    "\n",
    "\n",
    "\n",
    "# 📌 **Ejecutar la función con rutas correctas**\n",
    "md_directory = \"extracted/2025\"  # Ajusta la ruta a tu directorio de Markdown\n",
    "faiss_index_file = \"faiss_index.idx\"\n",
    "metadata_file = \"faiss_index.json\"\n",
    "\n",
    "index, metadata = generate_faiss_embeddings(md_directory, faiss_index_file, metadata_file)\n"
   ]
  },
  {
   "cell_type": "code",
   "execution_count": 37,
   "metadata": {},
   "outputs": [
    {
     "ename": "TypeError",
     "evalue": "search_faiss() got multiple values for argument 'top_k'",
     "output_type": "error",
     "traceback": [
      "\u001b[1;31m---------------------------------------------------------------------------\u001b[0m",
      "\u001b[1;31mTypeError\u001b[0m                                 Traceback (most recent call last)",
      "Cell \u001b[1;32mIn[37], line 10\u001b[0m\n\u001b[0;32m      8\u001b[0m \u001b[38;5;66;03m# 📌 Hacer una consulta\u001b[39;00m\n\u001b[0;32m      9\u001b[0m query \u001b[38;5;241m=\u001b[39m \u001b[38;5;124m\"\u001b[39m\u001b[38;5;124mReforma fiscal en México\u001b[39m\u001b[38;5;124m\"\u001b[39m\n\u001b[1;32m---> 10\u001b[0m results \u001b[38;5;241m=\u001b[39m \u001b[43msearch_faiss\u001b[49m\u001b[43m(\u001b[49m\u001b[43mquery\u001b[49m\u001b[43m,\u001b[49m\u001b[43m \u001b[49m\u001b[43mindex\u001b[49m\u001b[43m,\u001b[49m\u001b[43m \u001b[49m\u001b[43mmetadata\u001b[49m\u001b[43m,\u001b[49m\u001b[43m \u001b[49m\u001b[43mtop_k\u001b[49m\u001b[38;5;241;43m=\u001b[39;49m\u001b[38;5;241;43m5\u001b[39;49m\u001b[43m)\u001b[49m\n\u001b[0;32m     12\u001b[0m \u001b[38;5;66;03m# 📌 Mostrar resultados\u001b[39;00m\n\u001b[0;32m     13\u001b[0m \u001b[38;5;28mprint\u001b[39m(\u001b[38;5;124m\"\u001b[39m\u001b[38;5;124m🔍 Resultados de la búsqueda:\u001b[39m\u001b[38;5;124m\"\u001b[39m)\n",
      "\u001b[1;31mTypeError\u001b[0m: search_faiss() got multiple values for argument 'top_k'"
     ]
    }
   ],
   "source": [
    "\n",
    "\n",
    "# 📌 Cargar el índice FAISS y los metadatos antes de llamar a la búsqueda\n",
    "faiss_index_path = \"faiss_index.idx\"\n",
    "metadata_path = \"faiss_index.json\"\n",
    "\n",
    "# Cargar el índice FAISS\n",
    "index = faiss.read_index(faiss_index_path)\n",
    "\n",
    "# 📌 Hacer una consulta\n",
    "query = \"Reforma fiscal en México\"\n",
    "results = search_faiss(query, index, metadata, top_k=5)\n",
    "\n",
    "# 📌 Mostrar resultados\n",
    "print(\"🔍 Resultados de la búsqueda:\")\n",
    "for res in results:\n",
    "    print(f\"\\n🔹 Rank {res['rank']}\")\n",
    "    print(f\"📄 Archivo: {res['file']}\")\n",
    "    print(f\"📍 Ruta: {res['path']}\")\n",
    "    print(f\"🔢 Distancia: {res['distance']}\")\n",
    "\n"
   ]
  },
  {
   "cell_type": "code",
   "execution_count": 33,
   "metadata": {},
   "outputs": [
    {
     "ename": "NameError",
     "evalue": "name 'index' is not defined",
     "output_type": "error",
     "traceback": [
      "\u001b[1;31m---------------------------------------------------------------------------\u001b[0m",
      "\u001b[1;31mNameError\u001b[0m                                 Traceback (most recent call last)",
      "Cell \u001b[1;32mIn[33], line 2\u001b[0m\n\u001b[0;32m      1\u001b[0m query \u001b[38;5;241m=\u001b[39m \u001b[38;5;124m\"\u001b[39m\u001b[38;5;124m¿Qué se entiende por CPPP en el Diario Oficial de la Federación?\u001b[39m\u001b[38;5;124m\"\u001b[39m\n\u001b[1;32m----> 2\u001b[0m response \u001b[38;5;241m=\u001b[39m \u001b[43mgenerate_rag_response\u001b[49m\u001b[43m(\u001b[49m\u001b[43mquery\u001b[49m\u001b[43m)\u001b[49m\n\u001b[0;32m      4\u001b[0m \u001b[38;5;28mprint\u001b[39m(\u001b[38;5;124m\"\u001b[39m\u001b[38;5;124mRespuesta generada:\u001b[39m\u001b[38;5;124m\"\u001b[39m)\n\u001b[0;32m      5\u001b[0m \u001b[38;5;28mprint\u001b[39m(response)\n",
      "File \u001b[1;32mc:\\Users\\erojas\\OneDrive - EMBOTELLADORA DE COLIMA, S.A. DE C.V\\Documentos\\Versiones\\rag_dof\\dof-rag\\create_embeddings.py:185\u001b[0m, in \u001b[0;36mgenerate_rag_response\u001b[1;34m(query, top_k)\u001b[0m\n\u001b[0;32m    181\u001b[0m \u001b[38;5;28;01mdef\u001b[39;00m \u001b[38;5;21mgenerate_rag_response\u001b[39m(query, top_k\u001b[38;5;241m=\u001b[39m\u001b[38;5;241m3\u001b[39m):\n\u001b[0;32m    182\u001b[0m \u001b[38;5;250m    \u001b[39m\u001b[38;5;124;03m\"\"\"\u001b[39;00m\n\u001b[0;32m    183\u001b[0m \u001b[38;5;124;03m    Uses FAISS to retrieve relevant documents and generates a response using Google Gemini API.\u001b[39;00m\n\u001b[0;32m    184\u001b[0m \u001b[38;5;124;03m    \"\"\"\u001b[39;00m\n\u001b[1;32m--> 185\u001b[0m     results \u001b[38;5;241m=\u001b[39m \u001b[43msearch_faiss\u001b[49m\u001b[43m(\u001b[49m\u001b[43mquery\u001b[49m\u001b[43m,\u001b[49m\u001b[43m \u001b[49m\u001b[43mtop_k\u001b[49m\u001b[38;5;241;43m=\u001b[39;49m\u001b[43mtop_k\u001b[49m\u001b[43m)\u001b[49m\n\u001b[0;32m    187\u001b[0m     \u001b[38;5;28;01mif\u001b[39;00m \u001b[38;5;129;01mnot\u001b[39;00m results:\n\u001b[0;32m    188\u001b[0m         gemini_model \u001b[38;5;241m=\u001b[39m genai\u001b[38;5;241m.\u001b[39mGenerativeModel(model_name\u001b[38;5;241m=\u001b[39mGEMINI_MODEL_NAME)\n",
      "File \u001b[1;32mc:\\Users\\erojas\\OneDrive - EMBOTELLADORA DE COLIMA, S.A. DE C.V\\Documentos\\Versiones\\rag_dof\\dof-rag\\create_embeddings.py:144\u001b[0m, in \u001b[0;36msearch_faiss\u001b[1;34m(query, top_k, filter_date, filter_category, filter_page)\u001b[0m\n\u001b[0;32m    140\u001b[0m \u001b[38;5;28;01mdef\u001b[39;00m \u001b[38;5;21msearch_faiss\u001b[39m(query, top_k\u001b[38;5;241m=\u001b[39m\u001b[38;5;241m5\u001b[39m, filter_date\u001b[38;5;241m=\u001b[39m\u001b[38;5;28;01mNone\u001b[39;00m, filter_category\u001b[38;5;241m=\u001b[39m\u001b[38;5;28;01mNone\u001b[39;00m, filter_page\u001b[38;5;241m=\u001b[39m\u001b[38;5;28;01mNone\u001b[39;00m):\n\u001b[0;32m    141\u001b[0m \u001b[38;5;250m    \u001b[39m\u001b[38;5;124;03m\"\"\"\u001b[39;00m\n\u001b[0;32m    142\u001b[0m \u001b[38;5;124;03m    Searches in FAISS with optional filtering by date, category, or page number.\u001b[39;00m\n\u001b[0;32m    143\u001b[0m \u001b[38;5;124;03m    \"\"\"\u001b[39;00m\n\u001b[1;32m--> 144\u001b[0m     \u001b[38;5;28;01mif\u001b[39;00m \u001b[43mindex\u001b[49m \u001b[38;5;129;01mis\u001b[39;00m \u001b[38;5;28;01mNone\u001b[39;00m \u001b[38;5;129;01mor\u001b[39;00m metadata \u001b[38;5;129;01mis\u001b[39;00m \u001b[38;5;28;01mNone\u001b[39;00m:\n\u001b[0;32m    145\u001b[0m         \u001b[38;5;28;01mraise\u001b[39;00m \u001b[38;5;167;01mValueError\u001b[39;00m(\u001b[38;5;124m\"\u001b[39m\u001b[38;5;124mFAISS index or metadata is not properly loaded.\u001b[39m\u001b[38;5;124m\"\u001b[39m)\n\u001b[0;32m    147\u001b[0m     query_embedding \u001b[38;5;241m=\u001b[39m FAISS_EMBEDDING_MODEL\u001b[38;5;241m.\u001b[39mencode(query)\u001b[38;5;241m.\u001b[39mastype(\u001b[38;5;124m\"\u001b[39m\u001b[38;5;124mfloat32\u001b[39m\u001b[38;5;124m\"\u001b[39m)\u001b[38;5;241m.\u001b[39mreshape(\u001b[38;5;241m1\u001b[39m, \u001b[38;5;241m-\u001b[39m\u001b[38;5;241m1\u001b[39m)\n",
      "\u001b[1;31mNameError\u001b[0m: name 'index' is not defined"
     ]
    }
   ],
   "source": [
    "query = \"¿Qué se entiende por CPPP en el Diario Oficial de la Federación?\"\n",
    "response = generate_rag_response(query)\n",
    "\n",
    "print(\"Respuesta generada:\")\n",
    "print(response)\n"
   ]
  }
 ],
 "metadata": {
  "kernelspec": {
   "display_name": "Python 3",
   "language": "python",
   "name": "python3"
  },
  "language_info": {
   "codemirror_mode": {
    "name": "ipython",
    "version": 3
   },
   "file_extension": ".py",
   "mimetype": "text/x-python",
   "name": "python",
   "nbconvert_exporter": "python",
   "pygments_lexer": "ipython3",
   "version": "3.11.1"
  }
 },
 "nbformat": 4,
 "nbformat_minor": 2
}
