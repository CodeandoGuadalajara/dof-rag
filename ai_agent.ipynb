{
 "cells": [
  {
   "cell_type": "code",
   "execution_count": 7,
   "metadata": {},
   "outputs": [],
   "source": [
    "import json\n",
    "import faiss\n",
    "import json\n",
    "from extract_markdown import extract_markdown_from_pdf, extract_from_to, count_pages\n",
    "from create_embeddings import extract_pdfs_to_markdown,generate_faiss_embeddings,generate_rag_response,search_faiss"
   ]
  },
  {
   "cell_type": "markdown",
   "metadata": {},
   "source": [
    "Sample Testing"
   ]
  },
  {
   "cell_type": "code",
   "execution_count": 9,
   "metadata": {},
   "outputs": [
    {
     "name": "stdout",
     "output_type": "stream",
     "text": [
      "Número de páginas en el PDF: 166\n"
     ]
    }
   ],
   "source": [
    "\n",
    "pdf_path = r\"dof\\2025\\01\\02012025-MAT.pdf\"  \n",
    "\n",
    "num_pages = count_pages(pdf_path)\n",
    "print(f\"Número de páginas en el PDF: {num_pages}\")\n",
    "\n"
   ]
  },
  {
   "cell_type": "code",
   "execution_count": 10,
   "metadata": {},
   "outputs": [
    {
     "name": "stdout",
     "output_type": "stream",
     "text": [
      "```html\n",
      "<chunk pages=\"1\">\n",
      "UNIDOS MEXICA\n",
      "ESTADOS\n",
      "DIARIO OFICIAL\n",
      "DE LA FEDERACION\n",
      "ORGANO DEL GOBIERNO CONSTITUCIONAL DE LOS ESTADOS UNIDOS MEXICANOS\n",
      "No. de publicación: 001/2025\n",
      "Ciudad de México, jueves 2 de enero de 2025\n",
      "CONTENIDO\n",
      "Secretaría de Infraestructura, Comunicaciones y Transportes\n",
      "Secretaría de Desarrollo Agrario, Territorial y Urbano\n",
      "Servicios de Salud del Instituto Mexicano del Seguro Social\n",
      "para el Bienestar (IMSS-BIENESTAR)\n",
      "Banco de México\n",
      "Instituto Nacional Electoral\n",
      "Tribunal Superior Agrario\n",
      "Convocatorias para Concursos de Adquisiciones,\n",
      "Arrendamientos, Obras y Servicios del Sector Público\n",
      "Avisos\n",
      "Indice en página 2\n",
      "</chunk>\n",
      "```\n"
     ]
    }
   ],
   "source": [
    "markdown_text = extract_markdown_from_pdf(pdf_path)\n",
    "print(markdown_text[:1000])  \n"
   ]
  },
  {
   "cell_type": "code",
   "execution_count": 11,
   "metadata": {},
   "outputs": [
    {
     "name": "stdout",
     "output_type": "stream",
     "text": [
      "Markdown guardado en: extract/documento.md\n"
     ]
    }
   ],
   "source": [
    "md_path = \"extract/documento.md\"  \n",
    "extract_from_to(pdf_path, md_path)\n",
    "print(f\"Markdown guardado en: {md_path}\")\n"
   ]
  },
  {
   "cell_type": "markdown",
   "metadata": {},
   "source": [
    "Embeddings"
   ]
  },
  {
   "cell_type": "code",
   "execution_count": 12,
   "metadata": {},
   "outputs": [
    {
     "name": "stdout",
     "output_type": "stream",
     "text": [
      "✅ Procesado: dof/2025\\01\\02012025-MAT.pdf → extracted/2025\\01\\02012025-MAT.md\n",
      "✅ Procesado: dof/2025\\01\\03012025-MAT.pdf → extracted/2025\\01\\03012025-MAT.md\n",
      "✅ Procesado: dof/2025\\01\\06012025-MAT.pdf → extracted/2025\\01\\06012025-MAT.md\n",
      "✅ Procesado: dof/2025\\01\\07012025-MAT.pdf → extracted/2025\\01\\07012025-MAT.md\n",
      "✅ Procesado: dof/2025\\01\\08012025-MAT.pdf → extracted/2025\\01\\08012025-MAT.md\n",
      "✅ Procesado: dof/2025\\01\\09012025-MAT.pdf → extracted/2025\\01\\09012025-MAT.md\n",
      "✅ Procesado: dof/2025\\01\\10012025-MAT.pdf → extracted/2025\\01\\10012025-MAT.md\n",
      "✅ Procesado: dof/2025\\01\\13012025-MAT.pdf → extracted/2025\\01\\13012025-MAT.md\n",
      "✅ Procesado: dof/2025\\01\\14012025-MAT.pdf → extracted/2025\\01\\14012025-MAT.md\n",
      "✅ Procesado: dof/2025\\01\\15012025-MAT.pdf → extracted/2025\\01\\15012025-MAT.md\n",
      "✅ Procesado: dof/2025\\01\\16012025-MAT.pdf → extracted/2025\\01\\16012025-MAT.md\n",
      "✅ Procesado: dof/2025\\01\\17012025-MAT.pdf → extracted/2025\\01\\17012025-MAT.md\n",
      "✅ Procesado: dof/2025\\01\\20012025-MAT.pdf → extracted/2025\\01\\20012025-MAT.md\n",
      "✅ Procesado: dof/2025\\01\\21012025-MAT.pdf → extracted/2025\\01\\21012025-MAT.md\n"
     ]
    },
    {
     "ename": "TypeError",
     "evalue": "write() argument must be str, not None",
     "output_type": "error",
     "traceback": [
      "\u001b[1;31m---------------------------------------------------------------------------\u001b[0m",
      "\u001b[1;31mTypeError\u001b[0m                                 Traceback (most recent call last)",
      "Cell \u001b[1;32mIn[12], line 3\u001b[0m\n\u001b[0;32m      1\u001b[0m source_directory \u001b[38;5;241m=\u001b[39m \u001b[38;5;124m\"\u001b[39m\u001b[38;5;124mdof/2025\u001b[39m\u001b[38;5;124m\"\u001b[39m\n\u001b[0;32m      2\u001b[0m target_directory \u001b[38;5;241m=\u001b[39m \u001b[38;5;124m\"\u001b[39m\u001b[38;5;124mextracted/2025\u001b[39m\u001b[38;5;124m\"\u001b[39m\n\u001b[1;32m----> 3\u001b[0m \u001b[43mextract_pdfs_to_markdown\u001b[49m\u001b[43m(\u001b[49m\u001b[43msource_directory\u001b[49m\u001b[43m,\u001b[49m\u001b[43m \u001b[49m\u001b[43mtarget_directory\u001b[49m\u001b[43m)\u001b[49m\n",
      "File \u001b[1;32mc:\\Users\\erojas\\OneDrive - EMBOTELLADORA DE COLIMA, S.A. DE C.V\\Documentos\\Versiones\\rag_dof\\dof-rag\\create_embeddings.py:50\u001b[0m, in \u001b[0;36mextract_pdfs_to_markdown\u001b[1;34m(source_dir, target_dir)\u001b[0m\n\u001b[0;32m     47\u001b[0m markdown_text \u001b[38;5;241m=\u001b[39m extract_markdown_from_pdf(pdf_path)\n\u001b[0;32m     49\u001b[0m \u001b[38;5;28;01mwith\u001b[39;00m \u001b[38;5;28mopen\u001b[39m(md_path, \u001b[38;5;124m\"\u001b[39m\u001b[38;5;124mw\u001b[39m\u001b[38;5;124m\"\u001b[39m, encoding\u001b[38;5;241m=\u001b[39m\u001b[38;5;124m\"\u001b[39m\u001b[38;5;124mutf-8\u001b[39m\u001b[38;5;124m\"\u001b[39m) \u001b[38;5;28;01mas\u001b[39;00m md_file:\n\u001b[1;32m---> 50\u001b[0m     md_file\u001b[38;5;241m.\u001b[39mwrite(markdown_text)\n\u001b[0;32m     52\u001b[0m \u001b[38;5;28mprint\u001b[39m(\u001b[38;5;124mf\u001b[39m\u001b[38;5;124m\"\u001b[39m\u001b[38;5;124m✅ Procesado: \u001b[39m\u001b[38;5;132;01m{\u001b[39;00mpdf_path\u001b[38;5;132;01m}\u001b[39;00m\u001b[38;5;124m → \u001b[39m\u001b[38;5;132;01m{\u001b[39;00mmd_path\u001b[38;5;132;01m}\u001b[39;00m\u001b[38;5;124m\"\u001b[39m)\n",
      "\u001b[1;31mTypeError\u001b[0m: write() argument must be str, not None"
     ]
    }
   ],
   "source": [
    "\n",
    "source_directory = \"dof/2025\"\n",
    "target_directory = \"extracted/2025\"\n",
    "extract_pdfs_to_markdown(source_directory, target_directory)"
   ]
  },
  {
   "cell_type": "code",
   "execution_count": null,
   "metadata": {},
   "outputs": [
    {
     "name": "stdout",
     "output_type": "stream",
     "text": [
      "✅ Procesado: extracted/2025\\01\\02012025-MAT.md → Embedding generado\n",
      "✅ Procesado: extracted/2025\\01\\03012025-MAT.md → Embedding generado\n",
      "✅ Procesado: extracted/2025\\01\\06012025-MAT.md → Embedding generado\n",
      "✅ Procesado: extracted/2025\\01\\07012025-MAT.md → Embedding generado\n",
      "✅ Procesado: extracted/2025\\01\\08012025-MAT.md → Embedding generado\n",
      "✅ Procesado: extracted/2025\\01\\09012025-MAT.md → Embedding generado\n",
      "✅ Procesado: extracted/2025\\01\\10012025-MAT.md → Embedding generado\n",
      "✅ Procesado: extracted/2025\\01\\13012025-MAT.md → Embedding generado\n",
      "✅ Procesado: extracted/2025\\01\\14012025-MAT.md → Embedding generado\n",
      "✅ Procesado: extracted/2025\\01\\15012025-MAT.md → Embedding generado\n",
      "✅ Procesado: extracted/2025\\01\\16012025-MAT.md → Embedding generado\n",
      "✅ Procesado: extracted/2025\\01\\17012025-MAT.md → Embedding generado\n",
      "✅ Procesado: extracted/2025\\01\\20012025-MAT.md → Embedding generado\n",
      "✅ Procesado: extracted/2025\\01\\21012025-MAT.md → Embedding generado\n",
      "✅ Procesado: extracted/2025\\01\\22012025-MAT.md → Embedding generado\n",
      "✅ Índice FAISS guardado en: faiss_index.idx\n",
      "✅ Metadatos guardados en: faiss_index.json\n"
     ]
    }
   ],
   "source": [
    "\n",
    "\n",
    "\n",
    "# 📌 **Ejecutar la función con rutas correctas**\n",
    "md_directory = \"extracted/2025\"  # Ajusta la ruta a tu directorio de Markdown\n",
    "faiss_index_file = \"faiss_index.idx\"\n",
    "metadata_file = \"faiss_index.json\"\n",
    "\n",
    "generate_faiss_embeddings(md_directory, faiss_index_file, metadata_file)\n"
   ]
  },
  {
   "cell_type": "code",
   "execution_count": null,
   "metadata": {},
   "outputs": [
    {
     "name": "stdout",
     "output_type": "stream",
     "text": [
      "✅ Índice FAISS y metadatos cargados correctamente.\n",
      "🔍 Resultados de la búsqueda:\n",
      "\n",
      "🔹 Rank 1\n",
      "📄 Archivo: 07012025-MAT.md\n",
      "📍 Ruta: extracted/2025\\01\\07012025-MAT.md\n",
      "🔢 Distancia: 0.5185215473175049\n",
      "\n",
      "🔹 Rank 2\n",
      "📄 Archivo: 15012025-MAT.md\n",
      "📍 Ruta: extracted/2025\\01\\15012025-MAT.md\n",
      "🔢 Distancia: 0.5208737850189209\n",
      "\n",
      "🔹 Rank 3\n",
      "📄 Archivo: 16012025-MAT.md\n",
      "📍 Ruta: extracted/2025\\01\\16012025-MAT.md\n",
      "🔢 Distancia: 0.5242969989776611\n",
      "\n",
      "🔹 Rank 4\n",
      "📄 Archivo: 10012025-MAT.md\n",
      "📍 Ruta: extracted/2025\\01\\10012025-MAT.md\n",
      "🔢 Distancia: 0.56873619556427\n",
      "\n",
      "🔹 Rank 5\n",
      "📄 Archivo: 09012025-MAT.md\n",
      "📍 Ruta: extracted/2025\\01\\09012025-MAT.md\n",
      "🔢 Distancia: 0.5714161396026611\n",
      "\n",
      "🔹 Rank 6\n",
      "📄 Archivo: 08012025-MAT.md\n",
      "📍 Ruta: extracted/2025\\01\\08012025-MAT.md\n",
      "🔢 Distancia: 0.5725093483924866\n",
      "\n",
      "🔹 Rank 7\n",
      "📄 Archivo: 21012025-MAT.md\n",
      "📍 Ruta: extracted/2025\\01\\21012025-MAT.md\n",
      "🔢 Distancia: 0.5894616842269897\n",
      "\n",
      "🔹 Rank 8\n",
      "📄 Archivo: 13012025-MAT.md\n",
      "📍 Ruta: extracted/2025\\01\\13012025-MAT.md\n",
      "🔢 Distancia: 0.592982292175293\n",
      "\n",
      "🔹 Rank 9\n",
      "📄 Archivo: 02012025-MAT.md\n",
      "📍 Ruta: extracted/2025\\01\\02012025-MAT.md\n",
      "🔢 Distancia: 0.5935721397399902\n",
      "\n",
      "🔹 Rank 10\n",
      "📄 Archivo: 06012025-MAT.md\n",
      "📍 Ruta: extracted/2025\\01\\06012025-MAT.md\n",
      "🔢 Distancia: 0.6293920278549194\n",
      "\n",
      "🔹 Rank 11\n",
      "📄 Archivo: 17012025-MAT.md\n",
      "📍 Ruta: extracted/2025\\01\\17012025-MAT.md\n",
      "🔢 Distancia: 0.6355400085449219\n",
      "\n",
      "🔹 Rank 12\n",
      "📄 Archivo: 22012025-MAT.md\n",
      "📍 Ruta: extracted/2025\\01\\22012025-MAT.md\n",
      "🔢 Distancia: 0.8329138159751892\n",
      "\n",
      "🔹 Rank 13\n",
      "📄 Archivo: 20012025-MAT.md\n",
      "📍 Ruta: extracted/2025\\01\\20012025-MAT.md\n",
      "🔢 Distancia: 1.0504469871520996\n",
      "\n",
      "🔹 Rank 14\n",
      "📄 Archivo: 14012025-MAT.md\n",
      "📍 Ruta: extracted/2025\\01\\14012025-MAT.md\n",
      "🔢 Distancia: 1.1048297882080078\n",
      "\n",
      "🔹 Rank 15\n",
      "📄 Archivo: 03012025-MAT.md\n",
      "📍 Ruta: extracted/2025\\01\\03012025-MAT.md\n",
      "🔢 Distancia: 1.1200882196426392\n"
     ]
    }
   ],
   "source": [
    "\n",
    "# Cargar el índice FAISS\n",
    "index = faiss.read_index(faiss_index_file)\n",
    "\n",
    "# 📌 Cargar los metadatos desde el JSON (esto faltaba en tu código original)\n",
    "with open(metadata_file, \"r\", encoding=\"utf-8\") as f:\n",
    "    metadata = json.load(f)\n",
    "\n",
    "print(\"✅ Índice FAISS y metadatos cargados correctamente.\")\n",
    "\n",
    "# 📌 Hacer una consulta\n",
    "query = \"Reforma fiscal en México\"\n",
    "results = search_faiss(query, index, metadata, top_k=30)\n",
    "\n",
    "# 📌 Mostrar resultados\n",
    "print(\"🔍 Resultados de la búsqueda:\")\n",
    "for res in results:\n",
    "    print(f\"\\n🔹 Rank {res['rank']}\")\n",
    "    print(f\"📄 Archivo: {res['file']}\")\n",
    "    print(f\"📍 Ruta: {res['path']}\")\n",
    "    print(f\"🔢 Distancia: {res['distance']}\")\n",
    "\n",
    "\n"
   ]
  },
  {
   "cell_type": "code",
   "execution_count": null,
   "metadata": {},
   "outputs": [
    {
     "name": "stdout",
     "output_type": "stream",
     "text": [
      "Respuesta generada:\n",
      "Based on the provided text, there is mention of fiscal incentives related to  film production and distribution (07012025-MAT.md), and  tax incentives and quotas related to a special tax (10012025-MAT.md).  However, there is no detailed information about a broader tax reform in Mexico.  The documents primarily list government publications and announcements, not the specifics of tax reform legislation.\n"
     ]
    }
   ],
   "source": [
    "query = \"Reforma fiscal en México\"\n",
    "response = generate_rag_response(query, index, metadata, top_k=5)\n",
    "\n",
    "print(\"Respuesta generada:\")\n",
    "print(response)\n"
   ]
  },
  {
   "cell_type": "code",
   "execution_count": null,
   "metadata": {},
   "outputs": [],
   "source": []
  }
 ],
 "metadata": {
  "kernelspec": {
   "display_name": "Python 3",
   "language": "python",
   "name": "python3"
  },
  "language_info": {
   "codemirror_mode": {
    "name": "ipython",
    "version": 3
   },
   "file_extension": ".py",
   "mimetype": "text/x-python",
   "name": "python",
   "nbconvert_exporter": "python",
   "pygments_lexer": "ipython3",
   "version": "3.11.1"
  }
 },
 "nbformat": 4,
 "nbformat_minor": 2
}
